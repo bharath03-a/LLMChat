{
 "cells": [
  {
   "cell_type": "code",
   "execution_count": 1,
   "metadata": {},
   "outputs": [
    {
     "data": {
      "text/plain": [
       "True"
      ]
     },
     "execution_count": 1,
     "metadata": {},
     "output_type": "execute_result"
    }
   ],
   "source": [
    "import os\n",
    "from dotenv import load_dotenv\n",
    "load_dotenv()"
   ]
  },
  {
   "cell_type": "code",
   "execution_count": 2,
   "metadata": {},
   "outputs": [],
   "source": [
    "os.environ[\"ANTHROPIC_API_KEY\"] = os.getenv(\"ANTHROPIC_API_KEY\")"
   ]
  },
  {
   "cell_type": "code",
   "execution_count": 3,
   "metadata": {},
   "outputs": [],
   "source": [
    "from langchain_anthropic import ChatAnthropic\n",
    "from langchain.agents import AgentExecutor\n",
    "from langchain_core.prompts import MessagesPlaceholder, ChatPromptTemplate\n",
    "from langchain.agents.structured_chat.base import StructuredChatAgent\n",
    "from langchain.tools.render import render_text_description\n",
    "from composio_langchain import ComposioToolSet"
   ]
  },
  {
   "cell_type": "code",
   "execution_count": 4,
   "metadata": {},
   "outputs": [],
   "source": [
    "composio_toolset = ComposioToolSet(api_key=os.getenv('COMPOSIO_API_KEY'))\n",
    "tools = composio_toolset.get_tools(actions=['YOUTUBE_SEARCH_YOU_TUBE'])"
   ]
  },
  {
   "cell_type": "code",
   "execution_count": 5,
   "metadata": {},
   "outputs": [],
   "source": [
    "llm = ChatAnthropic(model=\"claude-3-5-sonnet-20241022\")"
   ]
  },
  {
   "cell_type": "code",
   "execution_count": 6,
   "metadata": {},
   "outputs": [],
   "source": [
    "system_message = \"\"\"\n",
    "You are an assistant helping product builders choose the best YouTube channels for product ads or sponsorships. Use the available YouTube search tool to find relevant channels based on the user's input. Provide helpful insights from the top results, such as channel name, content type, and audience fit.\n",
    "\n",
    "When you use a tool, format your message like this:\n",
    "\n",
    "<tool>Channel Name</tool>\n",
    "- Reason for selecting this channel\n",
    "- Other insights\n",
    "- Top video of that channel which suggested you this channel\n",
    "Start by understanding what the user is asking, then use the appropriate tool to gather information on YouTube channels. Once you have the data, analyze and provide recommendations based on factors like relevance to the product, audience, and content style.\n",
    "\"\"\""
   ]
  },
  {
   "cell_type": "code",
   "execution_count": 7,
   "metadata": {},
   "outputs": [],
   "source": [
    "prompt = ChatPromptTemplate.from_messages([\n",
    "    (\"system\", system_message),\n",
    "    MessagesPlaceholder(variable_name=\"chat_history\", optional=True),\n",
    "    (\"human\", \"{input}\"),\n",
    "    MessagesPlaceholder(variable_name=\"agent_scratchpad\")\n",
    "])"
   ]
  },
  {
   "cell_type": "code",
   "execution_count": 8,
   "metadata": {},
   "outputs": [],
   "source": [
    "agent = StructuredChatAgent.from_llm_and_tools(\n",
    "    llm=llm,\n",
    "    tools=tools,\n",
    "    prompt=prompt\n",
    ")"
   ]
  },
  {
   "cell_type": "code",
   "execution_count": 9,
   "metadata": {},
   "outputs": [],
   "source": [
    "agent_executor = AgentExecutor(agent=agent, tools=tools, verbose=True)"
   ]
  },
  {
   "cell_type": "code",
   "execution_count": 10,
   "metadata": {},
   "outputs": [
    {
     "name": "stdout",
     "output_type": "stream",
     "text": [
      "\n",
      "\n",
      "\u001b[1m> Entering new AgentExecutor chain...\u001b[0m\n",
      "\u001b[32;1m\u001b[1;3mLet me search for some beginner-friendly machine learning videos that can help introduce the topic.\n",
      "\n",
      "Action:\n",
      "```{\n",
      "  \"action\": \"YOUTUBE_SEARCH_YOU_TUBE\",\n",
      "  \"action_input\": {\n",
      "    \"q\": \"machine learning for beginners tutorial\",\n",
      "    \"maxResults\": 5,\n",
      "    \"type\": \"video\"\n",
      "  }\n",
      "}\n",
      "```\n",
      "\n",
      "\u001b[0m\n",
      "Observation: \u001b[36;1m\u001b[1;3m{'data': {'response_data': {'kind': 'youtube#searchListResponse', 'etag': 'eunqnTdbOnLV5j0c6Gzh-M4Qo4E', 'nextPageToken': 'CAUQAA', 'regionCode': 'US', 'pageInfo': {'totalResults': 1000000, 'resultsPerPage': 5}, 'items': [{'kind': 'youtube#searchResult', 'etag': '3zmqhaMCHDBqEWimvFvvJbZtXow', 'id': {'kind': 'youtube#video', 'videoId': 'ukzFI9rgwfU'}, 'snippet': {'publishedAt': '2018-09-19T14:57:02Z', 'channelId': 'UCsvqVGtbbyHaMoevxPAq9Fg', 'title': 'Machine Learning | What Is Machine Learning? | Introduction To Machine Learning | 2024 | Simplilearn', 'description': 'Artificial Intelligence Engineer (IBM) ...', 'thumbnails': {'default': {'url': 'https://i.ytimg.com/vi/ukzFI9rgwfU/default.jpg', 'width': 120, 'height': 90}, 'medium': {'url': 'https://i.ytimg.com/vi/ukzFI9rgwfU/mqdefault.jpg', 'width': 320, 'height': 180}, 'high': {'url': 'https://i.ytimg.com/vi/ukzFI9rgwfU/hqdefault.jpg', 'width': 480, 'height': 360}}, 'channelTitle': 'Simplilearn', 'liveBroadcastContent': 'none', 'publishTime': '2018-09-19T14:57:02Z'}}, {'kind': 'youtube#searchResult', 'etag': 'AZvxtWozkSgYy0mSBtekqH-nCow', 'id': {'kind': 'youtube#video', 'videoId': '7eh4d6sabA0'}, 'snippet': {'publishedAt': '2020-09-17T13:00:03Z', 'channelId': 'UCWv7vMbMWH4-V0ZXdmDpPBA', 'title': 'Python Machine Learning Tutorial (Data Science)', 'description': 'Build your first AI project with Python! This beginner-friendly machine learning tutorial uses real-world data. ❤️ Join this ...', 'thumbnails': {'default': {'url': 'https://i.ytimg.com/vi/7eh4d6sabA0/default.jpg', 'width': 120, 'height': 90}, 'medium': {'url': 'https://i.ytimg.com/vi/7eh4d6sabA0/mqdefault.jpg', 'width': 320, 'height': 180}, 'high': {'url': 'https://i.ytimg.com/vi/7eh4d6sabA0/hqdefault.jpg', 'width': 480, 'height': 360}}, 'channelTitle': 'Programming with Mosh', 'liveBroadcastContent': 'none', 'publishTime': '2020-09-17T13:00:03Z'}}, {'kind': 'youtube#searchResult', 'etag': 'xFKvVYhHTo5-VQuBaMapN3Df_EI', 'id': {'kind': 'youtube#video', 'videoId': 'PeMlggyqz0Y'}, 'snippet': {'publishedAt': '2021-09-09T17:31:56Z', 'channelId': 'UCsBjURrPoezykLs9EqgamOA', 'title': 'Machine Learning Explained in 100 Seconds', 'description': 'Machine Learning is the process of teaching a computer how perform a task with out explicitly programming it. The process feeds ...', 'thumbnails': {'default': {'url': 'https://i.ytimg.com/vi/PeMlggyqz0Y/default.jpg', 'width': 120, 'height': 90}, 'medium': {'url': 'https://i.ytimg.com/vi/PeMlggyqz0Y/mqdefault.jpg', 'width': 320, 'height': 180}, 'high': {'url': 'https://i.ytimg.com/vi/PeMlggyqz0Y/hqdefault.jpg', 'width': 480, 'height': 360}}, 'channelTitle': 'Fireship', 'liveBroadcastContent': 'none', 'publishTime': '2021-09-09T17:31:56Z'}}, {'kind': 'youtube#searchResult', 'etag': 'iDiG-o0uF0xVubpPIAb-cIJq-FY', 'id': {'kind': 'youtube#video', 'videoId': 'i_LwzRVP7bg'}, 'snippet': {'publishedAt': '2022-09-26T16:00:28Z', 'channelId': 'UC8butISFwT-Wl7EV0hUK0BQ', 'title': 'Machine Learning for Everybody – Full Course', 'description': 'Learn Machine Learning in a way that is accessible to absolute beginners. You will learn the basics of Machine Learning and how ...', 'thumbnails': {'default': {'url': 'https://i.ytimg.com/vi/i_LwzRVP7bg/default.jpg', 'width': 120, 'height': 90}, 'medium': {'url': 'https://i.ytimg.com/vi/i_LwzRVP7bg/mqdefault.jpg', 'width': 320, 'height': 180}, 'high': {'url': 'https://i.ytimg.com/vi/i_LwzRVP7bg/hqdefault.jpg', 'width': 480, 'height': 360}}, 'channelTitle': 'freeCodeCamp.org', 'liveBroadcastContent': 'none', 'publishTime': '2022-09-26T16:00:28Z'}}, {'kind': 'youtube#searchResult', 'etag': '2DAvzWu_-F6SZeWHdgdfvePVpDI', 'id': {'kind': 'youtube#video', 'videoId': 'G7fPB4OHkys'}, 'snippet': {'publishedAt': '2018-02-13T15:31:39Z', 'channelId': 'UCsvqVGtbbyHaMoevxPAq9Fg', 'title': 'Machine Learning Tutorial | Machine Learning Basics | Machine Learning Algorithms | Simplilearn', 'description': 'Artificial Intelligence Engineer (IBM) ...', 'thumbnails': {'default': {'url': 'https://i.ytimg.com/vi/G7fPB4OHkys/default.jpg', 'width': 120, 'height': 90}, 'medium': {'url': 'https://i.ytimg.com/vi/G7fPB4OHkys/mqdefault.jpg', 'width': 320, 'height': 180}, 'high': {'url': 'https://i.ytimg.com/vi/G7fPB4OHkys/hqdefault.jpg', 'width': 480, 'height': 360}}, 'channelTitle': 'Simplilearn', 'liveBroadcastContent': 'none', 'publishTime': '2018-02-13T15:31:39Z'}}]}}, 'error': None, 'successfull': True, 'successful': True}\u001b[0m\n",
      "Thought:\u001b[32;1m\u001b[1;3mBased on the search results, I can now provide a comprehensive answer about machine learning resources for beginners.\n",
      "\n",
      "Action:\n",
      "```{\n",
      "  \"action\": \"Final Answer\",\n",
      "  \"action_input\": \"If you're looking to get started with machine learning, here are some excellent beginner-friendly resources I found:\n",
      "\n",
      "1. For a Quick Overview:\n",
      "- Watch 'Machine Learning Explained in 100 Seconds' by Fireship for a quick grasp of core concepts\n",
      "\n",
      "2. For Comprehensive Learning:\n",
      "- freeCodeCamp offers a complete 'Machine Learning for Everybody' course that's designed for absolute beginners\n",
      "- Simplilearn has a detailed introduction to machine learning fundamentals and what machine learning is in 2024\n",
      "\n",
      "3. For Practical Implementation:\n",
      "- Programming with Mosh offers a Python Machine Learning Tutorial focused on data science that includes hands-on projects\n",
      "- Start with Python as it's the most popular language for machine learning\n",
      "\n",
      "Key Learning Path:\n",
      "1. First understand the basic concepts\n",
      "2. Learn Python programming basics\n",
      "3. Start with practical tutorials\n",
      "4. Work on simple projects\n",
      "\n",
      "These courses are all free on YouTube and provide a solid foundation for beginning your machine learning journey. I'd recommend starting with the freeCodeCamp course if you want a thorough introduction, or the Fireship 100-second video if you just want a quick overview before diving deeper.\"\n",
      "}\n",
      "```\u001b[0m\n",
      "\n",
      "\u001b[1m> Finished chain.\u001b[0m\n",
      "{'input': 'machine learning for beginners', 'output': \"If you're looking to get started with machine learning, here are some excellent beginner-friendly resources I found:\\n\\n1. For a Quick Overview:\\n- Watch 'Machine Learning Explained in 100 Seconds' by Fireship for a quick grasp of core concepts\\n\\n2. For Comprehensive Learning:\\n- freeCodeCamp offers a complete 'Machine Learning for Everybody' course that's designed for absolute beginners\\n- Simplilearn has a detailed introduction to machine learning fundamentals and what machine learning is in 2024\\n\\n3. For Practical Implementation:\\n- Programming with Mosh offers a Python Machine Learning Tutorial focused on data science that includes hands-on projects\\n- Start with Python as it's the most popular language for machine learning\\n\\nKey Learning Path:\\n1. First understand the basic concepts\\n2. Learn Python programming basics\\n3. Start with practical tutorials\\n4. Work on simple projects\\n\\nThese courses are all free on YouTube and provide a solid foundation for beginning your machine learning journey. I'd recommend starting with the freeCodeCamp course if you want a thorough introduction, or the Fireship 100-second video if you just want a quick overview before diving deeper.\"}\n"
     ]
    }
   ],
   "source": [
    "task = \"machine learning for beginners\"\n",
    "result = agent_executor.invoke({\"input\": task})\n",
    "print(result)"
   ]
  },
  {
   "cell_type": "code",
   "execution_count": null,
   "metadata": {},
   "outputs": [],
   "source": []
  }
 ],
 "metadata": {
  "kernelspec": {
   "display_name": "AI_Assistant",
   "language": "python",
   "name": "python3"
  },
  "language_info": {
   "codemirror_mode": {
    "name": "ipython",
    "version": 3
   },
   "file_extension": ".py",
   "mimetype": "text/x-python",
   "name": "python",
   "nbconvert_exporter": "python",
   "pygments_lexer": "ipython3",
   "version": "3.11.11"
  }
 },
 "nbformat": 4,
 "nbformat_minor": 2
}
