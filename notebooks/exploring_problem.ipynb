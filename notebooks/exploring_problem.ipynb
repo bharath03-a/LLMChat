{
 "cells": [
  {
   "cell_type": "code",
   "execution_count": null,
   "metadata": {},
   "outputs": [],
   "source": [
    "# reference - https://langchain-ai.github.io/langgraph/tutorials/rag/langgraph_agentic_rag/#graph"
   ]
  },
  {
   "cell_type": "code",
   "execution_count": 1,
   "metadata": {},
   "outputs": [],
   "source": [
    "import os\n",
    "import sys\n",
    "import warnings\n",
    "from dotenv import load_dotenv\n",
    "\n",
    "warnings.filterwarnings(\"ignore\")"
   ]
  },
  {
   "cell_type": "code",
   "execution_count": 2,
   "metadata": {},
   "outputs": [
    {
     "data": {
      "text/plain": [
       "True"
      ]
     },
     "execution_count": 2,
     "metadata": {},
     "output_type": "execute_result"
    }
   ],
   "source": [
    "load_dotenv()"
   ]
  },
  {
   "cell_type": "code",
   "execution_count": 7,
   "metadata": {},
   "outputs": [],
   "source": [
    "os.environ[\"LANGCHAIN_TRACING_V2\"] = \"true\"\n",
    "os.environ[\"LANGCHAIN_API_KEY\"] = os.getenv(\"LANGCHAIN_API_KEY\")"
   ]
  },
  {
   "cell_type": "code",
   "execution_count": 8,
   "metadata": {},
   "outputs": [],
   "source": [
    "import weaviate\n",
    "from tavily import TavilyClient\n",
    "\n",
    "from langchain_weaviate.vectorstores import WeaviateVectorStore\n",
    "from langchain_groq import ChatGroq\n",
    "from langchain_huggingface import HuggingFaceEmbeddings\n",
    "from langchain_core.prompts import PromptTemplate, ChatPromptTemplate\n",
    "from langchain_core.messages import HumanMessage, SystemMessage, AIMessage\n",
    "from langchain.chains import LLMChain"
   ]
  },
  {
   "cell_type": "code",
   "execution_count": 9,
   "metadata": {},
   "outputs": [],
   "source": [
    "llm_model = ChatGroq(\n",
    "    model=\"deepseek-r1-distill-llama-70b\",\n",
    "    temperature=0.6,\n",
    "    api_key=os.getenv(\"GROQ_API_KEY\"))"
   ]
  },
  {
   "cell_type": "code",
   "execution_count": 10,
   "metadata": {},
   "outputs": [
    {
     "name": "stdout",
     "output_type": "stream",
     "text": [
      "<class 'langchain_core.messages.ai.AIMessage'>\n"
     ]
    }
   ],
   "source": [
    "messages = [\n",
    "    SystemMessage(\"You are an advanced Legal AI Assistant designed to provide comprehensive legal insights, pattern recognition, and procedural guidance. Your knowledge base includes the Indian Penal Code (IPC), Code of Criminal Procedure (CrPC), Evidence Act, and regional laws.\"),\n",
    "    HumanMessage(\"How do I deal with a situation where my neighbor is making too much noise at night?\"),\n",
    "]\n",
    "\n",
    "print(type(llm_model.invoke(messages)))"
   ]
  },
  {
   "cell_type": "code",
   "execution_count": 32,
   "metadata": {},
   "outputs": [],
   "source": [
    "tavily_client = TavilyClient(api_key=os.getenv(\"TRAVILY_API_KEY\"))"
   ]
  },
  {
   "cell_type": "code",
   "execution_count": null,
   "metadata": {},
   "outputs": [],
   "source": [
    "response = tavily_client.search(\"Who is Leo Messi?\")\n",
    "print(response)"
   ]
  },
  {
   "cell_type": "code",
   "execution_count": 34,
   "metadata": {},
   "outputs": [],
   "source": [
    "template_1 = \"\"\"\n",
    "You are an advanced Legal AI Assistant designed to provide comprehensive legal insights, pattern recognition, and procedural guidance. Your knowledge base includes the Indian Penal Code (IPC), Code of Criminal Procedure (CrPC), Evidence Act, and regional laws. You have two primary functions:\n",
    "\n",
    "1. Analyzing user-uploaded documents and providing legal insights\n",
    "2. Answering direct legal queries and assisting with legal research\n",
    "\n",
    "Here's how you should process and respond to user inputs:\n",
    "\n",
    "1. Document Analysis (if applicable):\n",
    "If user documents are provided, analyze them as follows:\n",
    "<uploaded_documents>\n",
    "{{UPLOADED_DOCUMENTS}}\n",
    "</uploaded_documents>\n",
    "\n",
    "- Summarize the key points of the documents\n",
    "- Identify relevant legal concepts and statutes\n",
    "- Look for patterns or similarities with known cases\n",
    "\n",
    "2. Query Processing:\n",
    "Analyze the user's query:\n",
    "<user_query>\n",
    "{{USER_QUERY}}\n",
    "</user_query>\n",
    "\n",
    "3. Response Generation:\n",
    "Based on the query type and any uploaded documents, generate a response that includes:\n",
    "\n",
    "- Direct answers to the user's questions\n",
    "- Relevant legal concepts and statutes\n",
    "- Procedural guidance if applicable\n",
    "- Similar or related cases\n",
    "- References to legal sources\n",
    "\n",
    "Use the following legal database for additional information and case references:\n",
    "<legal_database>\n",
    "{{LEGAL_DATABASE}}\n",
    "</legal_database>\n",
    "\n",
    "4. Output Formatting:\n",
    "Structure your response as follows:\n",
    "\n",
    "<legal_analysis>\n",
    "[Provide your main analysis and answer to the user's query here]\n",
    "</legal_analysis>\n",
    "\n",
    "<relevant_statutes>\n",
    "[List relevant statutes, acts, or legal principles]\n",
    "</relevant_statutes>\n",
    "\n",
    "<similar_cases>\n",
    "[Describe similar cases or precedents, if applicable]\n",
    "</similar_cases>\n",
    "\n",
    "<procedural_guidance>\n",
    "[Offer step-by-step legal process recommendations, if applicable]\n",
    "</procedural_guidance>\n",
    "\n",
    "<references>\n",
    "[List all legal sources, case laws, and other references used]\n",
    "</references>\n",
    "\n",
    "Remember to:\n",
    "- Provide accurate and up-to-date legal information\n",
    "- Cite sources for all legal information and case references\n",
    "- Clarify that your analysis is for informational purposes and does not constitute legal advice\n",
    "- Encourage users to consult with a qualified legal professional for specific legal matters\n",
    "\n",
    "If the user asks follow-up questions, refer back to the original query and documents (if provided) to maintain context in your responses.\n",
    "\"\"\""
   ]
  },
  {
   "cell_type": "code",
   "execution_count": 35,
   "metadata": {},
   "outputs": [],
   "source": [
    "prompt_template = \"\"\"\n",
    "You are an experienced Legal Assistant AI specialized in analyzing legal documents and answering related questions. Your task is to carefully read and understand a given legal document, provide a concise summary of its contents, and then answer a specific question based on the document and your legal knowledge.\n",
    "\n",
    "Here is the legal document you need to analyze:\n",
    "\n",
    "<legal_document>\n",
    "{{document}}\n",
    "</legal_document>\n",
    "\n",
    "And here is the user's question:\n",
    "\n",
    "<user_question>\n",
    "{{question}}\n",
    "</user_question>\n",
    "\n",
    "Please follow these steps:\n",
    "\n",
    "1. Carefully read and analyze the legal document.\n",
    "2. In your analysis, consider the following:\n",
    "   - The main purpose of the document\n",
    "   - Key legal terms and concepts mentioned\n",
    "   - Any important clauses, conditions, or exceptions\n",
    "   - Parties involved and their obligations\n",
    "   - Potential legal implications\n",
    "\n",
    "3. Provide a concise summary of the document (approximately 3-5 sentences).\n",
    "\n",
    "4. Analyze the user's question in the context of the document.\n",
    "\n",
    "5. Formulate a clear and accurate answer to the question, based on both the document and your legal knowledge.\n",
    "\n",
    "Use the following structure for your response:\n",
    "\n",
    "<legal_analysis>\n",
    "Inside your thinking block:\n",
    "1. Identify and quote key sections of the document relevant to the question.\n",
    "2. List out important legal terms and concepts, numbering them.\n",
    "3. Consider potential interpretations or implications of the document.\n",
    "4. Show your reasoning process for answering the question.\n",
    "It's OK for this section to be quite long.\n",
    "</legal_analysis>\n",
    "\n",
    "<document_summary>\n",
    "[Your concise summary of the legal document]\n",
    "</document_summary>\n",
    "\n",
    "<answer>\n",
    "[Your clear and accurate answer to the user's question]\n",
    "</answer>\n",
    "\n",
    "Remember to maintain a professional tone and use appropriate legal terminology where necessary. If the question cannot be fully answered based on the provided document, state this clearly and provide the best possible answer with the available information.\n",
    "\n",
    "Your final output should consist only of the document summary and answer, and should not duplicate or rehash any of the work you did in the legal analysis thinking block.\n",
    "\"\"\""
   ]
  },
  {
   "cell_type": "code",
   "execution_count": 40,
   "metadata": {},
   "outputs": [],
   "source": [
    "sample_document = \"\"\"\n",
    "CONSULTING AGREEMENT\n",
    "\n",
    "This Consulting Agreement (the \"Agreement\") is made effective as of January 1, 2023 (the \"Effective Date\"), by and between ABC Corporation, a Delaware corporation with its principal place of business at 123 Main Street, Anytown, USA (\"Client\") and John Smith, an individual residing at 456 Oak Avenue, Somewhere, USA (\"Consultant\").\n",
    "\n",
    "1. SERVICES\n",
    "   Consultant shall provide consulting services as described in Exhibit A (the \"Services\").\n",
    "\n",
    "2. COMPENSATION\n",
    "   Client shall pay Consultant at the rate of $150 per hour. Consultant shall submit monthly invoices for Services performed.\n",
    "\n",
    "3. TERM AND TERMINATION\n",
    "   3.1 Term. This Agreement shall commence on the Effective Date and continue for a period of one (1) year, unless earlier terminated.\n",
    "   3.2 Termination for Convenience. Either party may terminate this Agreement upon thirty (30) days written notice.\n",
    "   3.3 Termination for Cause. Either party may terminate this Agreement immediately upon written notice if the other party breaches any material provision of this Agreement.\n",
    "   3.4 Effect of Termination. Upon termination, Client shall pay Consultant for all Services performed up to the date of termination.\n",
    "\"\"\"\n",
    "\n",
    "sample_question = \"What are the termination conditions in this contract?\""
   ]
  },
  {
   "cell_type": "code",
   "execution_count": 36,
   "metadata": {},
   "outputs": [],
   "source": [
    "prompt = PromptTemplate(\n",
    "    input_variables=[\"document\", \"question\"],\n",
    "    template=prompt_template\n",
    ")"
   ]
  },
  {
   "cell_type": "code",
   "execution_count": 37,
   "metadata": {},
   "outputs": [],
   "source": [
    "legal_chain = LLMChain(llm=llm_model, prompt=prompt)"
   ]
  },
  {
   "cell_type": "code",
   "execution_count": 41,
   "metadata": {},
   "outputs": [],
   "source": [
    "response = legal_chain.invoke({\"document\": sample_document, \"question\": sample_question})"
   ]
  },
  {
   "cell_type": "code",
   "execution_count": null,
   "metadata": {},
   "outputs": [],
   "source": [
    "response"
   ]
  }
 ],
 "metadata": {
  "kernelspec": {
   "display_name": "AI_Assistant",
   "language": "python",
   "name": "python3"
  },
  "language_info": {
   "codemirror_mode": {
    "name": "ipython",
    "version": 3
   },
   "file_extension": ".py",
   "mimetype": "text/x-python",
   "name": "python",
   "nbconvert_exporter": "python",
   "pygments_lexer": "ipython3",
   "version": "3.11.11"
  }
 },
 "nbformat": 4,
 "nbformat_minor": 2
}
