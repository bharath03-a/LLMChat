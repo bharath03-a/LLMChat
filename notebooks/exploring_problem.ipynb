{
 "cells": [
  {
   "cell_type": "code",
   "execution_count": 14,
   "metadata": {},
   "outputs": [],
   "source": [
    "import os\n",
    "import sys\n",
    "import warnings\n",
    "from dotenv import load_dotenv\n",
    "\n",
    "warnings.filterwarnings(\"ignore\")"
   ]
  },
  {
   "cell_type": "code",
   "execution_count": 15,
   "metadata": {},
   "outputs": [
    {
     "data": {
      "text/plain": [
       "True"
      ]
     },
     "execution_count": 15,
     "metadata": {},
     "output_type": "execute_result"
    }
   ],
   "source": [
    "load_dotenv()"
   ]
  },
  {
   "cell_type": "code",
   "execution_count": 28,
   "metadata": {},
   "outputs": [],
   "source": [
    "import weaviate\n",
    "from tavily import TavilyClient\n",
    "\n",
    "from langchain_weaviate.vectorstores import WeaviateVectorStore\n",
    "from langchain_groq import ChatGroq\n",
    "from langchain_huggingface import HuggingFaceEmbeddings\n",
    "from langchain_core.prompts import PromptTemplate, ChatPromptTemplate\n",
    "from langchain_core.messages import HumanMessage, SystemMessage, AIMessage\n",
    "from langchain.chains import LLMChain"
   ]
  },
  {
   "cell_type": "code",
   "execution_count": 31,
   "metadata": {},
   "outputs": [],
   "source": [
    "llm_model = ChatGroq(\n",
    "    model=\"deepseek-r1-distill-llama-70b\",\n",
    "    temperature=0.6)"
   ]
  },
  {
   "cell_type": "code",
   "execution_count": 45,
   "metadata": {},
   "outputs": [
    {
     "data": {
      "text/plain": [
       "AIMessage(content=\"<think>\\nOkay, so I have this problem where my neighbor is making too much noise at night, and it's really disturbing my peace. I need to figure out how to deal with this. Let me think through the possible steps I can take.\\n\\nFirst, I guess I should try talking to my neighbor. Maybe they're not aware of how loud they're being. I could approach them casually and explain how the noise is affecting me. Maybe they'll be understanding and keep it down. But what if they don't take me seriously or get defensive? I should be polite and not confrontational to avoid any arguments.\\n\\nIf talking doesn't work, maybe I should document the noise. I could keep a record of the dates and times when the noise happens, how long it lasts, and what kind of noise it is. This might help if I need to take further action. I've heard that having evidence can be useful, so maybe I can record the noise with my phone or write it down in a diary.\\n\\nAnother thought is to contact the local authorities. I remember reading somewhere about a noise pollution act in India. Maybe the police or the Pollution Control Board can help. I think the Noise Pollution (Regulation and Control) Rules, 2000, set decibel limits, so if the noise exceeds those levels, it's against the law. I could file a complaint with the police under Section 268 of the IPC, which deals with public nuisances. But I'm not sure how to go about filing a complaint. Do I just go to the police station and report it, or is there a specific procedure?\\n\\nI also wonder if there are any specific sections under the IPC or CrPC that apply here. I think under the CrPC, there are provisions for maintaining public order and tranquility. Maybe the police can issue a warning or take action under Section 133, which is about removing public nuisances. But I'm not entirely sure how that works. Do I need to provide evidence when I file the complaint?\\n\\nIf the noise is from something like a generator or a music system, maybe the Pollution Control Board can get involved. They might have specific rules about permissible noise levels. I should probably look up the contact information for my local board and see what the process is for filing a noise complaint.\\n\\nAnother option is to approach the society or housing association if I live in an apartment complex. They might have rules against excessive noise, and they could mediate the situation or take action against the neighbor. I should check the bylaws or talk to the secretary of the society to see what can be done.\\n\\nIf all else fails, I might have to go to court. I could file a civil case for nuisance and seek an injunction to stop the noise. I'm not sure how that process works, though. Do I need a lawyer for that? What kind of evidence would I need to present in court?\\n\\nI should also consider other practical solutions. Maybe using earplugs or white noise machines could help me cope with the noise. But that's more of a temporary fix and doesn't solve the root problem.\\n\\nI'm a bit worried about the relationship with my neighbor. If I take legal action, it might create tension. I don't want things to escalate, but I also need my peace. Maybe there's a way to resolve this amicably without involving the authorities. Perhaps a mediated conversation where a neutral third party helps us reach an agreement.\\n\\nI'm also thinking about the timing of the noise. If it's late at night, like after 10 PM, it's more likely to be a disturbance. I should check the local laws about quiet hours. I think many places have specific times when noise levels must be kept down.\\n\\nWhat if the neighbor is running a business from home that's causing the noise? That might be a different issue, possibly involving zoning laws or business licenses. I'm not sure, but it's something to consider if the noise is related to commercial activity.\\n\\nI should also look into any local ordinances or municipal laws that might apply. Each city might have its own rules about noise, so it's worth checking with the local government to see what's enforceable in my area.\\n\\nIn summary, my approach would be:\\n\\n1. Try to talk to the neighbor politely.\\n2. If that doesn't work, document the noise with dates, times, and recordings.\\n3. Contact the police or Pollution Control Board to file a complaint, using relevant IPC or CrPC sections.\\n4. Involve the housing society if applicable.\\n5. Consider legal action as a last resort, possibly through a court injunction.\\n6. Explore practical solutions like earplugs if the noise continues.\\n7. Maintain a record of all communications and actions taken for future reference.\\n\\nI think I need to gather more information on the specific laws and procedures in my area. Maybe I should consult with a lawyer to understand my options better, especially if the problem persists and I need to take legal steps. It's important to handle this carefully to avoid conflicts while protecting my right to a peaceful living environment.\\n</think>\\n\\nDealing with a noisy neighbor can be challenging, but there are several structured steps you can take to address the issue effectively while maintaining a positive relationship. Here's a comprehensive approach:\\n\\n### 1. **Initial Communication**\\n   - **Approach Politely:** Start by having a calm and polite conversation with your neighbor. They might not be aware of the disturbance they're causing. Explain how the noise affects you and seek a mutual solution.\\n\\n### 2. **Documentation**\\n   - **Keep Records:** Document instances of noise with dates, times, duration, and type. This evidence can be crucial if further action is needed. Consider recording the noise using a smartphone or a sound level meter.\\n\\n### 3. **Engage Authorities**\\n   - **File a Complaint:** Contact local police or the Pollution Control Board. Cite the Noise Pollution (Regulation and Control) Rules, 2000, which set decibel limits. You can file a complaint under IPC Section 268 (public nuisance) or CrPC Section 133 (removing nuisances).\\n\\n### 4. **Involve Housing Society**\\n   - **Check Regulations:** If you live in an apartment, consult your housing society. They may have noise rules and can mediate or take action against the neighbor.\\n\\n### 5. **Legal Action**\\n   - **Consider Court:** As a last resort, consult a lawyer to file a civil case for nuisance. You may seek an injunction to stop the noise. Ensure you have all necessary evidence.\\n\\n### 6. **Practical Solutions**\\n   - **Use Aids:** Consider using earplugs, white noise machines, or soundproofing to mitigate the disturbance temporarily.\\n\\n### 7. **Mediation**\\n   - **Neutral Third Party:** Engage a mediator to facilitate a conversation with your neighbor, aiming for an amicable resolution.\\n\\n### 8. **Check Local Laws**\\n   - **Quiet Hours:** Verify local laws regarding quiet hours, especially after 10 PM. Check for any specific ordinances or municipal laws in your area.\\n\\n### 9. **Consult a Lawyer**\\n   - **Legal Advice:** Seek legal counsel to understand your options and the best approach, especially if the problem persists.\\n\\n### 10. **Maintain Records**\\n   - **Document Everything:** Keep a record of all communications and actions taken for future reference.\\n\\nBy following these steps, you can address the noise issue methodically, balancing your need for peace with maintaining a good relationship with your neighbor.\", additional_kwargs={}, response_metadata={'token_usage': {'completion_tokens': 1535, 'prompt_tokens': 68, 'total_tokens': 1603, 'completion_time': 5.581818182, 'prompt_time': 0.008685615, 'queue_time': 7.503528155, 'total_time': 5.590503797}, 'model_name': 'deepseek-r1-distill-llama-70b', 'system_fingerprint': 'fp_c1494dd356', 'finish_reason': 'stop', 'logprobs': None}, id='run-c5a39328-4128-469a-aefa-151630054460-0', usage_metadata={'input_tokens': 68, 'output_tokens': 1535, 'total_tokens': 1603})"
      ]
     },
     "execution_count": 45,
     "metadata": {},
     "output_type": "execute_result"
    }
   ],
   "source": [
    "messages = [\n",
    "    SystemMessage(\"You are an advanced Legal AI Assistant designed to provide comprehensive legal insights, pattern recognition, and procedural guidance. Your knowledge base includes the Indian Penal Code (IPC), Code of Criminal Procedure (CrPC), Evidence Act, and regional laws.\"),\n",
    "    HumanMessage(\"How do I deal with a situation where my neighbor is making too much noise at night?\"),\n",
    "]\n",
    "\n",
    "llm_model.invoke(messages)"
   ]
  },
  {
   "cell_type": "code",
   "execution_count": 32,
   "metadata": {},
   "outputs": [],
   "source": [
    "tavily_client = TavilyClient(api_key=os.getenv(\"TRAVILY_API_KEY\"))"
   ]
  },
  {
   "cell_type": "code",
   "execution_count": 33,
   "metadata": {},
   "outputs": [
    {
     "name": "stdout",
     "output_type": "stream",
     "text": [
      "{'query': 'Who is Leo Messi?', 'follow_up_questions': None, 'answer': None, 'images': [], 'results': [{'title': 'Lionel Messi - Wikipedia', 'url': 'https://en.wikipedia.org/wiki/Lionel_Messi', 'content': \"Widely regarded as one of the greatest players of all time, Messi set numerous records for individual accolades won throughout his professional footballing career such as eight Ballon d'Or awards and four the Best FIFA Men's Player awards.[note 2] He is the most decorated player in the history of professional football having won 45 team trophies,[note 3] including twelve league titles, four UEFA Champions Leagues, two Copa Américas, and one FIFA World Cup. Messi holds the records for most European Golden Shoes (6), most goals in a calendar year (91), most goals for a single club (672, with Barcelona), most goals (474), hat-tricks (36) and assists (192) in La Liga, most assists (18) and goal contributions (32) in the Copa América, most goal contributions (21) in the World Cup, most international appearances (191) and international goals (112) by a South American male, and the second-most in the latter category outright.\", 'score': 0.80698997, 'raw_content': None}, {'title': 'Lionel Messi: Biography, Soccer Player, Inter Miami CF, Athlete', 'url': 'https://www.biography.com/athletes/lionel-messi', 'content': 'Lionel Messi, a forward for Inter Miami CF, is one of the world’s greatest soccer players and helped the Argentina national team win its third FIFA World Cup in 2022. Messi, now playing for Inter Miami CF of the MLS, helped his home country win soccer’s biggest event for the first time since 1986, scoring two goals in the final and leading Argentina to a 4-2 win over Kylian Mbappé and France on penalties. Lionel Messi is an Argentinian soccer player who has played for FC Barcelona, Paris Saint-Germain, and currently, the MLS club Inter Miami CF as well as the Argentina national team.', 'score': 0.79901963, 'raw_content': None}, {'title': \"Lionel Messi | Biography, Trophies, Records, Ballon d'Or, Inter Miami ...\", 'url': 'https://www.britannica.com/biography/Lionel-Messi', 'content': 'Lionel Messi scored 73 goals during the 2011–12 season while playing for FC Barcelona, breaking\\xa0a 39-year-old record for single-season goals in a major European football league. Britannica Quiz Great Moments in Sports QuizMessi’s play continued to rapidly improve over the years, and by 2008 he was one of the most dominant players in the world, finishing second to Manchester United’s Cristiano Ronaldo in the voting for the 2008 Ballon d’Or. In early 2009 Messi capped off a spectacular 2008–09 season by helping FC Barcelona capture the club’s first “treble” (winning three major European club titles in one season): the team won the La Liga championship, the Copa del Rey (Spain’s major domestic cup), and the Champions League title.', 'score': 0.5479727, 'raw_content': None}, {'title': 'Lionel Messi - Player profile 2025 - Transfermarkt', 'url': 'https://www.transfermarkt.com/lionel-messi/profil/spieler/28003', 'content': 'Lionel Messi - Player profile 2025 | Transfermarkt Player agents Most valuable players in the world Player agents Player data Name in home country: Lionel Andrés Messi Cuccitini Date of birth/Age: Jun 24, 1987 (37) Place of birth: Rosario\\xa0\\xa0\\xa0\\xa0 Height: 1,70\\xa0m Citizenship: \\xa0\\xa0\\xa0\\xa0Argentina Spain Position: Attack - Right Winger Foot: left Player agent: Relatives Current club: Inter Miami CF Joined: Jul 15, 2023 Contract expires: Dec 31, 2025 Outfitter: adidas Social-Media:   | Leagues Cup | | Club World Cup | |  | Club World Cup | 5 | 5 | 1 | 85 | 427 | Which player do you prefer... Most valuable players in the world Latest transfers Latest rumours Latest market value updates FIFA World Ranking Betting', 'score': 0.46555817, 'raw_content': None}, {'title': 'Official site', 'url': 'https://messi.com', 'content': 'Lionel Messi', 'score': 0.40627348, 'raw_content': None}], 'response_time': 1.77}\n"
     ]
    }
   ],
   "source": [
    "response = tavily_client.search(\"Who is Leo Messi?\")\n",
    "print(response)"
   ]
  },
  {
   "cell_type": "code",
   "execution_count": 34,
   "metadata": {},
   "outputs": [],
   "source": [
    "template_1 = \"\"\"\n",
    "You are an advanced Legal AI Assistant designed to provide comprehensive legal insights, pattern recognition, and procedural guidance. Your knowledge base includes the Indian Penal Code (IPC), Code of Criminal Procedure (CrPC), Evidence Act, and regional laws. You have two primary functions:\n",
    "\n",
    "1. Analyzing user-uploaded documents and providing legal insights\n",
    "2. Answering direct legal queries and assisting with legal research\n",
    "\n",
    "Here's how you should process and respond to user inputs:\n",
    "\n",
    "1. Document Analysis (if applicable):\n",
    "If user documents are provided, analyze them as follows:\n",
    "<uploaded_documents>\n",
    "{{UPLOADED_DOCUMENTS}}\n",
    "</uploaded_documents>\n",
    "\n",
    "- Summarize the key points of the documents\n",
    "- Identify relevant legal concepts and statutes\n",
    "- Look for patterns or similarities with known cases\n",
    "\n",
    "2. Query Processing:\n",
    "Analyze the user's query:\n",
    "<user_query>\n",
    "{{USER_QUERY}}\n",
    "</user_query>\n",
    "\n",
    "3. Response Generation:\n",
    "Based on the query type and any uploaded documents, generate a response that includes:\n",
    "\n",
    "- Direct answers to the user's questions\n",
    "- Relevant legal concepts and statutes\n",
    "- Procedural guidance if applicable\n",
    "- Similar or related cases\n",
    "- References to legal sources\n",
    "\n",
    "Use the following legal database for additional information and case references:\n",
    "<legal_database>\n",
    "{{LEGAL_DATABASE}}\n",
    "</legal_database>\n",
    "\n",
    "4. Output Formatting:\n",
    "Structure your response as follows:\n",
    "\n",
    "<legal_analysis>\n",
    "[Provide your main analysis and answer to the user's query here]\n",
    "</legal_analysis>\n",
    "\n",
    "<relevant_statutes>\n",
    "[List relevant statutes, acts, or legal principles]\n",
    "</relevant_statutes>\n",
    "\n",
    "<similar_cases>\n",
    "[Describe similar cases or precedents, if applicable]\n",
    "</similar_cases>\n",
    "\n",
    "<procedural_guidance>\n",
    "[Offer step-by-step legal process recommendations, if applicable]\n",
    "</procedural_guidance>\n",
    "\n",
    "<references>\n",
    "[List all legal sources, case laws, and other references used]\n",
    "</references>\n",
    "\n",
    "Remember to:\n",
    "- Provide accurate and up-to-date legal information\n",
    "- Cite sources for all legal information and case references\n",
    "- Clarify that your analysis is for informational purposes and does not constitute legal advice\n",
    "- Encourage users to consult with a qualified legal professional for specific legal matters\n",
    "\n",
    "If the user asks follow-up questions, refer back to the original query and documents (if provided) to maintain context in your responses.\n",
    "\"\"\""
   ]
  },
  {
   "cell_type": "code",
   "execution_count": 35,
   "metadata": {},
   "outputs": [],
   "source": [
    "prompt_template = \"\"\"\n",
    "You are an experienced Legal Assistant AI specialized in analyzing legal documents and answering related questions. Your task is to carefully read and understand a given legal document, provide a concise summary of its contents, and then answer a specific question based on the document and your legal knowledge.\n",
    "\n",
    "Here is the legal document you need to analyze:\n",
    "\n",
    "<legal_document>\n",
    "{{document}}\n",
    "</legal_document>\n",
    "\n",
    "And here is the user's question:\n",
    "\n",
    "<user_question>\n",
    "{{question}}\n",
    "</user_question>\n",
    "\n",
    "Please follow these steps:\n",
    "\n",
    "1. Carefully read and analyze the legal document.\n",
    "2. In your analysis, consider the following:\n",
    "   - The main purpose of the document\n",
    "   - Key legal terms and concepts mentioned\n",
    "   - Any important clauses, conditions, or exceptions\n",
    "   - Parties involved and their obligations\n",
    "   - Potential legal implications\n",
    "\n",
    "3. Provide a concise summary of the document (approximately 3-5 sentences).\n",
    "\n",
    "4. Analyze the user's question in the context of the document.\n",
    "\n",
    "5. Formulate a clear and accurate answer to the question, based on both the document and your legal knowledge.\n",
    "\n",
    "Use the following structure for your response:\n",
    "\n",
    "<legal_analysis>\n",
    "Inside your thinking block:\n",
    "1. Identify and quote key sections of the document relevant to the question.\n",
    "2. List out important legal terms and concepts, numbering them.\n",
    "3. Consider potential interpretations or implications of the document.\n",
    "4. Show your reasoning process for answering the question.\n",
    "It's OK for this section to be quite long.\n",
    "</legal_analysis>\n",
    "\n",
    "<document_summary>\n",
    "[Your concise summary of the legal document]\n",
    "</document_summary>\n",
    "\n",
    "<answer>\n",
    "[Your clear and accurate answer to the user's question]\n",
    "</answer>\n",
    "\n",
    "Remember to maintain a professional tone and use appropriate legal terminology where necessary. If the question cannot be fully answered based on the provided document, state this clearly and provide the best possible answer with the available information.\n",
    "\n",
    "Your final output should consist only of the document summary and answer, and should not duplicate or rehash any of the work you did in the legal analysis thinking block.\n",
    "\"\"\""
   ]
  },
  {
   "cell_type": "code",
   "execution_count": 40,
   "metadata": {},
   "outputs": [],
   "source": [
    "sample_document = \"\"\"\n",
    "CONSULTING AGREEMENT\n",
    "\n",
    "This Consulting Agreement (the \"Agreement\") is made effective as of January 1, 2023 (the \"Effective Date\"), by and between ABC Corporation, a Delaware corporation with its principal place of business at 123 Main Street, Anytown, USA (\"Client\") and John Smith, an individual residing at 456 Oak Avenue, Somewhere, USA (\"Consultant\").\n",
    "\n",
    "1. SERVICES\n",
    "   Consultant shall provide consulting services as described in Exhibit A (the \"Services\").\n",
    "\n",
    "2. COMPENSATION\n",
    "   Client shall pay Consultant at the rate of $150 per hour. Consultant shall submit monthly invoices for Services performed.\n",
    "\n",
    "3. TERM AND TERMINATION\n",
    "   3.1 Term. This Agreement shall commence on the Effective Date and continue for a period of one (1) year, unless earlier terminated.\n",
    "   3.2 Termination for Convenience. Either party may terminate this Agreement upon thirty (30) days written notice.\n",
    "   3.3 Termination for Cause. Either party may terminate this Agreement immediately upon written notice if the other party breaches any material provision of this Agreement.\n",
    "   3.4 Effect of Termination. Upon termination, Client shall pay Consultant for all Services performed up to the date of termination.\n",
    "\"\"\"\n",
    "\n",
    "sample_question = \"What are the termination conditions in this contract?\""
   ]
  },
  {
   "cell_type": "code",
   "execution_count": 36,
   "metadata": {},
   "outputs": [],
   "source": [
    "prompt = PromptTemplate(\n",
    "    input_variables=[\"document\", \"question\"],\n",
    "    template=prompt_template\n",
    ")"
   ]
  },
  {
   "cell_type": "code",
   "execution_count": 37,
   "metadata": {},
   "outputs": [],
   "source": [
    "legal_chain = LLMChain(llm=llm_model, prompt=prompt)"
   ]
  },
  {
   "cell_type": "code",
   "execution_count": 41,
   "metadata": {},
   "outputs": [],
   "source": [
    "response = legal_chain.invoke({\"document\": sample_document, \"question\": sample_question})"
   ]
  },
  {
   "cell_type": "code",
   "execution_count": 43,
   "metadata": {},
   "outputs": [
    {
     "data": {
      "text/plain": [
       "{'document': '\\nCONSULTING AGREEMENT\\n\\nThis Consulting Agreement (the \"Agreement\") is made effective as of January 1, 2023 (the \"Effective Date\"), by and between ABC Corporation, a Delaware corporation with its principal place of business at 123 Main Street, Anytown, USA (\"Client\") and John Smith, an individual residing at 456 Oak Avenue, Somewhere, USA (\"Consultant\").\\n\\n1. SERVICES\\n   Consultant shall provide consulting services as described in Exhibit A (the \"Services\").\\n\\n2. COMPENSATION\\n   Client shall pay Consultant at the rate of $150 per hour. Consultant shall submit monthly invoices for Services performed.\\n\\n3. TERM AND TERMINATION\\n   3.1 Term. This Agreement shall commence on the Effective Date and continue for a period of one (1) year, unless earlier terminated.\\n   3.2 Termination for Convenience. Either party may terminate this Agreement upon thirty (30) days written notice.\\n   3.3 Termination for Cause. Either party may terminate this Agreement immediately upon written notice if the other party breaches any material provision of this Agreement.\\n   3.4 Effect of Termination. Upon termination, Client shall pay Consultant for all Services performed up to the date of termination.\\n',\n",
       " 'question': 'What are the termination conditions in this contract?',\n",
       " 'text': \"<think>\\n\\n</think>\\n\\n<legal_analysis>\\nInside your thinking block:\\n1. Identify and quote key sections of the document relevant to the question.\\n2. List out important legal terms and concepts, numbering them.\\n3. Consider potential interpretations or implications of the document.\\n4. Show your reasoning process for answering the question.\\nIt's OK for this section to be quite long.\\n</legal_analysis>\\n\\n<document_summary>\\n[Your concise summary of the legal document]\\n</document_summary>\\n\\n<answer>\\n[Your clear and accurate answer to the user's question]\\n</answer>\"}"
      ]
     },
     "execution_count": 43,
     "metadata": {},
     "output_type": "execute_result"
    }
   ],
   "source": [
    "response"
   ]
  }
 ],
 "metadata": {
  "kernelspec": {
   "display_name": "AI_Assistant",
   "language": "python",
   "name": "python3"
  },
  "language_info": {
   "codemirror_mode": {
    "name": "ipython",
    "version": 3
   },
   "file_extension": ".py",
   "mimetype": "text/x-python",
   "name": "python",
   "nbconvert_exporter": "python",
   "pygments_lexer": "ipython3",
   "version": "3.11.11"
  }
 },
 "nbformat": 4,
 "nbformat_minor": 2
}
